{
 "cells": [
  {
   "cell_type": "markdown",
   "id": "1246d620",
   "metadata": {},
   "source": [
    "# VRP Assignment - María Ármann"
   ]
  },
  {
   "cell_type": "code",
   "execution_count": 1,
   "id": "0150f1b9",
   "metadata": {},
   "outputs": [],
   "source": [
    "import numpy as np\n",
    "import pandas as pd\n",
    "import simpy\n",
    "import random\n",
    "import math\n",
    "import matplotlib.pyplot as plt\n",
    "import matplotlib\n",
    "from sklearn import preprocessing, svm\n",
    "from sklearn.model_selection import train_test_split\n",
    "from sklearn.linear_model import LinearRegression\n",
    "\n",
    "import vrplib\n",
    "import time\n",
    "import random \n",
    "import copy"
   ]
  },
  {
   "cell_type": "markdown",
   "id": "fa6525a7",
   "metadata": {},
   "source": [
    "### Reading the data"
   ]
  },
  {
   "cell_type": "markdown",
   "id": "087098ff",
   "metadata": {},
   "source": [
    "We will be storing all eight instances in a list of instances. Throughout the code we will be iterating over the instances to get separete results for them all. "
   ]
  },
  {
   "cell_type": "code",
   "execution_count": 2,
   "id": "d67806aa",
   "metadata": {},
   "outputs": [],
   "source": [
    "import requests\n",
    "import io\n",
    "from pathlib import Path\n",
    "\n",
    "import numpy as np\n",
    "import pandas as pd\n",
    "import vrplib\n",
    "import requests\n",
    "\n",
    "instances = []\n",
    "\n",
    "\n",
    "Paths = [\"ORTEC-VRPTW-ASYM-0bdff870-d1-n458-k35.txt\",\n",
    "         \"ORTEC-VRPTW-ASYM-00c5356f-d1-n258-k12.txt\", \n",
    "         \"ORTEC-VRPTW-ASYM-0dc59ef2-d1-n213-k25.txt\",\n",
    "         \"ORTEC-VRPTW-ASYM-04c694cd-d1-n254-k18.txt\",\n",
    "         \"ORTEC-VRPTW-ASYM-08d8e660-d1-n460-k42.txt\",\n",
    "         \"ORTEC-VRPTW-ASYM-0797afaf-d1-n313-k20.txt\",\n",
    "         \"ORTEC-VRPTW-ASYM-02182cf8-d1-n327-k20.txt\",\n",
    "         \"ORTEC-VRPTW-ASYM-01829532-d1-n324-k22.txt\"]\n",
    "\n",
    "\n",
    "for i in range(0,8):\n",
    "    # Get instance from Github gist and write to file\n",
    "    instance_loc = Path(Paths[i])\n",
    "    instance = vrplib.read_instance(instance_loc)\n",
    "    instances.append(instance)"
   ]
  },
  {
   "cell_type": "markdown",
   "id": "91b26cd4",
   "metadata": {},
   "source": [
    "The relevant items are:\n",
    "- `capacity`: the vehicle capacity\n",
    "- `edge_weight`: the distances matrix \n",
    "- `node_coord`: the location coordinates\n",
    "- `demand`: the demand at each location\n",
    "- `depot`: the depot index\n",
    "- `service_time`: the service time at each location\n",
    "- `deadline`: the customer deadlines\n",
    "- `release_time`: the customer release times"
   ]
  },
  {
   "cell_type": "markdown",
   "id": "1d3ff77f",
   "metadata": {},
   "source": [
    "## Heuristic Algorithm"
   ]
  },
  {
   "cell_type": "markdown",
   "id": "d8280cb9",
   "metadata": {},
   "source": [
    "For the heuristic algorithm we will be using the `Clark and Wright with Savings` algorithm. This is a simple and efficient algorithm and can easily be extended to include conditional constraints, like in our case: including the release dates and deadlines. "
   ]
  },
  {
   "cell_type": "markdown",
   "id": "30ab3fe3",
   "metadata": {},
   "source": [
    "### Step 1: Calculate the savings"
   ]
  },
  {
   "cell_type": "markdown",
   "id": "f87a654b",
   "metadata": {},
   "source": [
    "The savings are calculated by using the following formula:\n",
    "$$\n",
    "s(i,j) = d(D,i) + d(j,D) - d(i,j)\n",
    "$$\n",
    "where $i \\neq j$ and D is the depot."
   ]
  },
  {
   "cell_type": "code",
   "execution_count": 3,
   "id": "ce5720a8",
   "metadata": {},
   "outputs": [],
   "source": [
    "#Function to calculate the savings for customers (i,j) where i != j\n",
    "\n",
    "def Savings(instance):\n",
    "    n = int(instance['dimension'])\n",
    "\n",
    "    #Calculating the savings for all i,j\n",
    "    savings = {}\n",
    "    for i in range(1,n):\n",
    "        for j in range(1,n):\n",
    "            if i != j:\n",
    "                s = (instance['edge_weight'][0][i]) + (instance['edge_weight'][j][0]) - (instance['edge_weight'][i][j])\n",
    "                #s = (instance['edge_weight'][0][i]) + (instance['edge_weight'][0][j]) - (instance['edge_weight'][i][j])\n",
    "                key = (\"(\" + str(i) + \",\" + str(j) + \")\")\n",
    "                savings[key] = s\n",
    "\n",
    "    return savings\n",
    "\n"
   ]
  },
  {
   "cell_type": "markdown",
   "id": "1577e1bb",
   "metadata": {},
   "source": [
    "### Step 2: Sort the savings in decreasing order"
   ]
  },
  {
   "cell_type": "code",
   "execution_count": 4,
   "id": "8cef888d",
   "metadata": {},
   "outputs": [],
   "source": [
    "def sortingSavings(savings):\n",
    "    sortedSavings = dict(sorted(savings.items(), key=lambda x:x[1], reverse=True))\n",
    "    \n",
    "    return sortedSavings"
   ]
  },
  {
   "cell_type": "markdown",
   "id": "48800ac3",
   "metadata": {},
   "source": [
    "### Step 3: Initialisation and constructing routes such that we do not break the constraints"
   ]
  },
  {
   "cell_type": "code",
   "execution_count": 130,
   "id": "8621d45f",
   "metadata": {},
   "outputs": [],
   "source": [
    "def CWHeuristic(instance):\n",
    "    \n",
    "    n = int(instance['dimension'])\n",
    "    \n",
    "    savings = Savings(instance)\n",
    "    sorted_savings = sortingSavings(savings)\n",
    "\n",
    "    #Initialize all the routes such that all customers belong to separete routes\n",
    "    #Dictionary where the key is the customer and the value is the route it belongs to\n",
    "    routes = {i:[0, i, 0] for i in range(1, n)}\n",
    "    newroutes = []\n",
    "    assignedCust = []\n",
    "    NotendNode = []\n",
    "\n",
    "    # Iterate over the sorted savings dictionary\n",
    "    starttime = time.time()\n",
    "    for key, saving in sorted_savings.items() :\n",
    "        i, j = map(int, key.strip('()').split(','))\n",
    "        merging = True\n",
    "\n",
    "        # Check if i and j are assigned to different routes and j is currently not in a route\n",
    "        if (routes[i] != routes[j]) and (j not in assignedCust) and (i not in NotendNode):\n",
    "        \n",
    "            #We create the route and then do some checks if our route is feasible\n",
    "            if routes[i] in newroutes:\n",
    "                mergedRoute = routes[i][0:-1] + routes[j][1:]\n",
    "            else:\n",
    "                mergedRoute = routes[i][0:-1] + routes[j][1:]\n",
    "\n",
    "            #Calculate the total demand of the merged route \n",
    "            totalDemand = 0\n",
    "\n",
    "            for customer in mergedRoute[1:-1]:\n",
    "\n",
    "                if merging == False:\n",
    "                    break\n",
    "\n",
    "                demand = instance['demand'][customer]\n",
    "                totalDemand = totalDemand + demand\n",
    "\n",
    "                #Check if by adding them to the same route we do not exceed capacity of the vehicles\n",
    "                if (totalDemand) < (instance['capacity']+1):\n",
    "\n",
    "                    #Calculate the latest release time of the new merged route:\n",
    "                    latestRelease = 0\n",
    "                    for customer in mergedRoute[1:-1]:\n",
    "                        if instance['release_time'][customer] > latestRelease:\n",
    "                            latestRelease = instance['release_time'][customer]\n",
    "\n",
    "                    #Check if we can meet all the deadlines:\n",
    "                    currTime = latestRelease #start time\n",
    "                    from_Node = 0 #start driving from the depot\n",
    "\n",
    "                    for customer in mergedRoute[1:-1]:\n",
    "                        to_Node = customer\n",
    "\n",
    "                        #If there is a customer where we can not meet the deadline then we don't merge and break \n",
    "                        if (currTime + instance['edge_weight'][from_Node][to_Node]) > instance['deadline'][customer]:\n",
    "                            merging = False\n",
    "                            break\n",
    "\n",
    "                        #Can we arrive at the customer before the deadline?\n",
    "                        else:\n",
    "                            #If yes then we update the current Time. We add the driving distance and the service time\n",
    "                            currTime = currTime + instance['edge_weight'][from_Node][to_Node] + instance['service_time'][to_Node]\n",
    "\n",
    "                            #Update locations: from_Node\n",
    "                            from_Node = customer\n",
    "\n",
    "            if merging == True:\n",
    "            #If we get through the loop then all deadlines are met and we merge the routes\n",
    "                if routes[i] in newroutes:\n",
    "                    newroutes.remove(routes[i])\n",
    "                newroutes.append(mergedRoute)\n",
    "\n",
    "                routes[i] = mergedRoute\n",
    "                routes[j] = mergedRoute\n",
    "\n",
    "                #i is not a end node anymore:\n",
    "                NotendNode.append(i)\n",
    "\n",
    "                #Customer has been assigned to a route\n",
    "                assignedCust.append(j)\n",
    "                assignedCust.append(i)\n",
    "\n",
    "    allAssignedCustomers = []\n",
    "    for route in newroutes:\n",
    "        for customer in route[1:-1]:\n",
    "            allAssignedCustomers.append(customer)\n",
    "\n",
    "\n",
    "    for i in range(1,instance['dimension']):\n",
    "        if i not in allAssignedCustomers:\n",
    "            newroutes.append(routes[i])\n",
    "\n",
    "    endtime = time.time()\n",
    "    print(\"The code took:\", endtime - starttime, \"seconds to run.\")\n",
    "\n",
    "    return newroutes"
   ]
  },
  {
   "cell_type": "markdown",
   "id": "f1641716",
   "metadata": {},
   "source": [
    "### Running the Heuristic"
   ]
  },
  {
   "cell_type": "code",
   "execution_count": 131,
   "id": "2156e105",
   "metadata": {
    "scrolled": true
   },
   "outputs": [
    {
     "name": "stdout",
     "output_type": "stream",
     "text": [
      "The code took: 0.03769493103027344 seconds to run.\n",
      "The code took: 0.03137612342834473 seconds to run.\n",
      "The code took: 0.04349374771118164 seconds to run.\n",
      "The code took: 0.049278974533081055 seconds to run.\n",
      "The code took: 0.026233196258544922 seconds to run.\n",
      "The code took: 0.029489755630493164 seconds to run.\n",
      "The code took: 0.020919084548950195 seconds to run.\n",
      "The code took: 0.01831817626953125 seconds to run.\n"
     ]
    }
   ],
   "source": [
    "#We will be storing our results from all instances in a list\n",
    "routesInstances = []\n",
    "\n",
    "for instance in instances: \n",
    "    newroutes = CWHeuristic(instance)\n",
    "    routesInstances.append(newroutes)"
   ]
  },
  {
   "cell_type": "markdown",
   "id": "fc827ddb",
   "metadata": {},
   "source": [
    "The code prints the time it takes to run for each instance. It can be seen clearly that all instances run within a second. Due to this fact we decide that there is no need to implement a stopping critera of 60 seconds. "
   ]
  },
  {
   "cell_type": "code",
   "execution_count": 13,
   "id": "a906b636",
   "metadata": {},
   "outputs": [
    {
     "name": "stdout",
     "output_type": "stream",
     "text": [
      "The total number of vehicles used to serve all customers: 50\n",
      "The total number of vehicles used to serve all customers: 43\n",
      "The total number of vehicles used to serve all customers: 62\n",
      "The total number of vehicles used to serve all customers: 64\n",
      "The total number of vehicles used to serve all customers: 43\n",
      "The total number of vehicles used to serve all customers: 40\n",
      "The total number of vehicles used to serve all customers: 45\n",
      "The total number of vehicles used to serve all customers: 41\n"
     ]
    }
   ],
   "source": [
    "#The following code prints how many vehicles are needed in each instance\n",
    "for routes in routesInstances: \n",
    "    print(\"The total number of vehicles used to serve all customers:\", len(routes))"
   ]
  },
  {
   "cell_type": "markdown",
   "id": "a78bf122",
   "metadata": {},
   "source": [
    "### Validation Code - Heuristic "
   ]
  },
  {
   "cell_type": "markdown",
   "id": "69da3284",
   "metadata": {},
   "source": [
    "The following code can be used to check if a certain route in a certain solution meets the time constraints. "
   ]
  },
  {
   "cell_type": "code",
   "execution_count": 24,
   "id": "78f0f524",
   "metadata": {},
   "outputs": [
    {
     "name": "stdout",
     "output_type": "stream",
     "text": [
      "For customer 79 we leave at time 14400 and arrive at  18034\n",
      "The service time is:  540 so we leave at 18574\n",
      "with the DLine being:  19500\n",
      "For customer 67 we leave at time 18574 and arrive at  26309\n",
      "The service time is:  360 so we leave at 26669\n",
      "with the DLine being:  22500\n",
      "For customer 83 we leave at time 26669 and arrive at  30648\n",
      "The service time is:  420 so we leave at 31068\n",
      "with the DLine being:  33900\n",
      "14400\n"
     ]
    }
   ],
   "source": [
    "latestRelease = 0\n",
    "for customer in newroutes[13][1:-1]:\n",
    "#for customer in testroute[1:-1]:\n",
    "    \n",
    "    if instance['release_time'][customer] > latestRelease:\n",
    "        latestRelease = instance['release_time'][customer]\n",
    "\n",
    "    \n",
    "currTime = latestRelease #start time\n",
    "from_Node = 0 #start driving from the depot\n",
    "\n",
    "for customer in newroutes[13][1:-1]:\n",
    "#for customer in testroute[1:-1]:\n",
    "\n",
    "\n",
    "    to_Node = customer\n",
    "    \n",
    "    #print(\"ReLTime\", instance['release_time'][customer])\n",
    "    \n",
    "    print(\"For customer\", customer, \"we leave at time\", currTime, \"and arrive at \", currTime + instance['edge_weight'][from_Node][to_Node])\n",
    "    print(\"The service time is: \", instance['service_time'][customer], \"so we leave at\",currTime + instance['edge_weight'][from_Node][to_Node]+instance['service_time'][customer])\n",
    "    print(\"with the DLine being: \", instance['deadline'][customer])\n",
    "\n",
    "    currTime = currTime + instance['edge_weight'][from_Node][to_Node] + instance['service_time'][to_Node]\n",
    "                        \n",
    "    #Update locations: from_Node\n",
    "    from_Node = customer\n",
    "    \n",
    "    \n",
    "print(latestRelease)"
   ]
  },
  {
   "cell_type": "markdown",
   "id": "552e73ba",
   "metadata": {},
   "source": [
    "## Metaheuristic Algorithm"
   ]
  },
  {
   "cell_type": "markdown",
   "id": "8d1bb38a",
   "metadata": {},
   "source": [
    "For the metaheuristic algorithm we will be using the Tabu Search metaheuristic and we will use our previous obtained solution from the heuristic algorithm as the initialized feasible solution. This initialized solution respects all the constraints of the problem and is therefore a suitable fit as a starting point for the Tabu Search.  "
   ]
  },
  {
   "cell_type": "markdown",
   "id": "41f68c28",
   "metadata": {},
   "source": [
    "### Step 1: Define the Neighbourhoods"
   ]
  },
  {
   "cell_type": "markdown",
   "id": "45c7abc8",
   "metadata": {},
   "source": [
    "The first step is to define the neighborhoods that will be used to generate new solutions in the Tabu Search algorithm. We will define the following neighborhoods: swap two customers between different routes, move a customer from one route to another, switch customers within a route and moving an end customer between routes. "
   ]
  },
  {
   "cell_type": "code",
   "execution_count": 136,
   "id": "2910a807",
   "metadata": {},
   "outputs": [],
   "source": [
    "def create_neighbourhood(solution):\n",
    "    #print(\"We get in\", solution[0:5])\n",
    "    \n",
    "    original_sol = copy.deepcopy(solution)\n",
    "    testingsol = copy.deepcopy(solution)\n",
    "    \n",
    "    #We will choose randomly what operation we will do \n",
    "    choice = random.choice([1,2,3,4])\n",
    "        \n",
    "    #If 1 then swap two random customers from two random routes \n",
    "    if choice == 1:\n",
    "        #Choose two random routes:\n",
    "        loc_R1 = (random.choice(range(0,len(testingsol))))\n",
    "        loc_R2 = (random.choice(range(0,len(testingsol))))\n",
    "        route1 = testingsol[loc_R1]\n",
    "        route2 = testingsol[loc_R2]\n",
    "\n",
    "        #If the routes are the same or if at least one of them is too short we return the same one back\n",
    "        if route1 == route2 or (len(route1) < 3) or (len(route2) < 3):\n",
    "            return original_sol\n",
    "            \n",
    "\n",
    "        #Otherwise we modify our current solution\n",
    "        else:\n",
    "            #Chose two random customers in each route:\n",
    "            loc_C1 = (random.choice(range(1,len(route1)-1)))\n",
    "            loc_C2 = (random.choice(range(1,len(route2)-1)))\n",
    "            custR1 = route1[loc_C1]\n",
    "            custR2 = route2[loc_C2]\n",
    "\n",
    "            #Swap those customers:\n",
    "            #temp = custR1\n",
    "            route1[loc_C1] = custR2\n",
    "            route2[loc_C2] = custR1\n",
    "\n",
    "            #Create the new solution with different routes\n",
    "            testingsol[loc_R1] = route1\n",
    "            testingsol[loc_R2] = route2\n",
    "        \n",
    "        if is_feasible(instance, testingsol):\n",
    "            newsolution = testingsol\n",
    "        else: \n",
    "            newsolution = original_sol\n",
    "        \n",
    "    \n",
    "    #If 2 then move one customer from a route to a new location on a different route\n",
    "    elif choice == 2:\n",
    "        #Choose two random routes:\n",
    "        loc_R1 = (random.choice(range(0,len(testingsol))))\n",
    "        loc_R2 = (random.choice(range(0,len(testingsol))))\n",
    "        route1 = testingsol[loc_R1]\n",
    "        route2 = testingsol[loc_R2]\n",
    "        \n",
    "        #If the routes are the same or if at least one of them is too short we return the same one back\n",
    "        if route1 == route2 or (len(route1) < 3) or (len(route2) < 3):\n",
    "            return original_sol\n",
    "        \n",
    "        #Otherwise we modify the route\n",
    "        else:\n",
    "            #Choose a random customer in the first route\n",
    "            loc_Cust = (random.choice(range(1,len(route1)-1))) #The location of the customer in the list\n",
    "            custR1 = route1[loc_Cust] #The number of the customer \n",
    "\n",
    "            #Add that customer to a random location in the second route (not first and last because that is the depot)\n",
    "            place = (random.choice(range(1,len(route2)-1)))\n",
    "            route2 = route2[0:place] + [custR1] + route2[place:]\n",
    "\n",
    "            #Remove it from the first route\n",
    "            route1 = route1[0:loc_Cust] + route1[loc_Cust+1:]\n",
    "\n",
    "            #Create the new solution:\n",
    "            testingsol[loc_R1] = route1\n",
    "            testingsol[loc_R2] = route2\n",
    "            \n",
    "        if is_feasible(instance, testingsol):\n",
    "            #print(\"It is feasible\")\n",
    "            newsolution = testingsol\n",
    "        else: \n",
    "            newsolution = original_sol\n",
    "        \n",
    "    #If 3 then we switch two customers in a random route \n",
    "    elif choice == 3:\n",
    "        #Choose a random route:\n",
    "        loc_R1 = (random.choice(range(0,len(testingsol))))\n",
    "        route1 = testingsol[loc_R1]\n",
    "        \n",
    "        if (len(route1) < 3):\n",
    "            return original_sol\n",
    "\n",
    "        #Choose a random customer in the first route\n",
    "        loc_Cust = (random.choice(range(1,len(route1)-1))) #The location of the customer in the list\n",
    "        custR1 = route1[loc_Cust] #The number of the customer \n",
    "        \n",
    "        if loc_Cust > 2 and loc_Cust < len(route1)-1:\n",
    "            temp = route1[loc_Cust]\n",
    "            route1[loc_Cust] = route1[loc_Cust - 1]\n",
    "            route1[loc_Cust - 1] = temp\n",
    "        elif loc_Cust == 1 and loc_Cust < len(route1)-2: \n",
    "            temp = route1[loc_Cust]\n",
    "            route1[loc_Cust] = route1[loc_Cust + 1]\n",
    "            route1[loc_Cust + 1] = temp\n",
    "            \n",
    "        #If neither of the if or elif hold - we don't do anything and return the old route. \n",
    "        \n",
    "        #Create the newsolution:\n",
    "        testingsol[loc_R1] = route1\n",
    "        \n",
    "        if is_feasible(instance, testingsol):\n",
    "            #print(\"It is feasible\")\n",
    "            newsolution = testingsol\n",
    "        else: \n",
    "            newsolution = original_sol\n",
    "        \n",
    "    #If 4 then we take an end customer from one route and add it to the end of another route.\n",
    "    elif choice == 4:\n",
    "        \n",
    "        #Choose two random routes:\n",
    "        loc_R1 = (random.choice(range(0,len(testingsol))))\n",
    "        loc_R2 = (random.choice(range(0,len(testingsol))))\n",
    "        route1 = testingsol[loc_R1]\n",
    "        route2 = testingsol[loc_R2]\n",
    "        \n",
    "        if route1 == route2 or (len(route1) < 3) or (len(route2) < 3):\n",
    "            return original_sol\n",
    "            \n",
    "        \n",
    "        #Put the last customer from route 1 at the end of route 2\n",
    "        if len(route1) > 3:\n",
    "            custR1 = route1[len(route1)-2]\n",
    "\n",
    "            #Make the routes\n",
    "            route1 = route1[0:len(route1)-2] + [0]\n",
    "            route2 = route2[0:len(route1)-1] + [custR1] + [0]\n",
    "\n",
    "            #Create the new solution with different routes\n",
    "            testingsol[loc_R1] = route1\n",
    "            testingsol[loc_R2] = route2\n",
    "            newsolution = testingsol\n",
    "            \n",
    "        else:\n",
    "            return original_sol\n",
    "    \n",
    "        if is_feasible(instance, testingsol):\n",
    "            #print(\"It is feasible\")\n",
    "            newsolution = testingsol\n",
    "        else: \n",
    "            newsolution = original_sol\n",
    "        \n",
    "    return newsolution "
   ]
  },
  {
   "cell_type": "markdown",
   "id": "1063d6cc",
   "metadata": {},
   "source": [
    "### Step 4: Implement the Tabu Search Algorithm"
   ]
  },
  {
   "cell_type": "code",
   "execution_count": 137,
   "id": "ff72a0de",
   "metadata": {},
   "outputs": [],
   "source": [
    "def TabuSearch(instance):\n",
    "    \n",
    "    #We will initialize our first solution as the Clark and Wright solution\n",
    "    currentSolution = CWHeuristic(instance)\n",
    "\n",
    "    #Our initial best solution is the Clark and Wright solution\n",
    "    bestSolution = copy.deepcopy(currentSolution)\n",
    "    bestDist = total_distance(instance, bestSolution)\n",
    "\n",
    "    #Create a Tabu List\n",
    "    tabuList = [] \n",
    "    \n",
    "    startTime = time.time()\n",
    "    \n",
    "    i = 0\n",
    "    \n",
    "    while True:\n",
    "        \n",
    "        currentCopy = copy.deepcopy(currentSolution)\n",
    "        \n",
    "        #We want to generate a now solution by using the neighbourhood function\n",
    "        genSolution = create_neighbourhood(currentSolution)\n",
    "        \n",
    "        i = i + 1\n",
    "\n",
    "        #If we have seen the solution before we continue to the next one\n",
    "        if genSolution in tabuList:\n",
    "            continue\n",
    "        \n",
    "        #We need to add the solution to the tabu list \n",
    "        tabuList.append(genSolution)\n",
    "\n",
    "        #Need to check if the new solution is feasible     \n",
    "        #If the solution is feasible we need to calculate the distance for that solution\n",
    "        if is_feasible(instance, genSolution):\n",
    "\n",
    "            #If the solution is feasible \n",
    "            genDist = total_distance(instance, genSolution)\n",
    "\n",
    "            #If our new solution is better than the best one we update the best one\n",
    "            if genDist < bestDist:\n",
    "                print(\"New distance\", genDist)\n",
    "                print(\"Current best\", bestDist)\n",
    "                bestDist = genDist\n",
    "                bestSolution = genSolution\n",
    "\n",
    "            currentSolution = genSolution\n",
    "        \n",
    "        else:\n",
    "            print(\"Not feasible\")\n",
    "            currentSolution = currentCopy\n",
    "            \n",
    "        #Make sure we stop running after 60 seconds\n",
    "        elapsedTime = (time.time() - startTime)\n",
    "        if (elapsedTime > 60):\n",
    "            break\n",
    "\n",
    "    return bestSolution, bestDist, i"
   ]
  },
  {
   "cell_type": "markdown",
   "id": "c412ab21",
   "metadata": {},
   "source": [
    "### Running the Metaheuristic"
   ]
  },
  {
   "cell_type": "code",
   "execution_count": 138,
   "id": "b6a7697c",
   "metadata": {
    "scrolled": false
   },
   "outputs": [
    {
     "name": "stdout",
     "output_type": "stream",
     "text": [
      "The code took: 0.0373072624206543 seconds to run.\n",
      "Heuristic: True\n",
      "The code took: 0.031783103942871094 seconds to run.\n",
      "Heuristic: True\n",
      "The code took: 0.04419112205505371 seconds to run.\n",
      "Heuristic: True\n",
      "The code took: 0.050189971923828125 seconds to run.\n",
      "Heuristic: True\n",
      "The code took: 0.02573680877685547 seconds to run.\n",
      "Heuristic: True\n",
      "The code took: 0.029829978942871094 seconds to run.\n",
      "Heuristic: True\n",
      "New distance 183411\n",
      "Current best 183545\n",
      "New distance 183335\n",
      "Current best 183411\n",
      "The code took: 0.021999120712280273 seconds to run.\n",
      "Heuristic: True\n",
      "The code took: 0.018388986587524414 seconds to run.\n",
      "Heuristic: True\n"
     ]
    }
   ],
   "source": [
    "#We will be storing our results in the following lists\n",
    "routesInstances = []\n",
    "bestDiste = []\n",
    "totIter = []\n",
    "\n",
    "for instance in instances: \n",
    "    newroutes, bestDist, i = TabuSearch(instance)\n",
    "    routesInstances.append(newroutes)\n",
    "    bestDiste.append(bestDist)\n",
    "    totIter.append(i)"
   ]
  },
  {
   "cell_type": "code",
   "execution_count": 139,
   "id": "ddb41d27",
   "metadata": {},
   "outputs": [
    {
     "name": "stdout",
     "output_type": "stream",
     "text": [
      "[247308, 184489, 262820, 265253, 251132, 183335, 276340, 288560]\n"
     ]
    }
   ],
   "source": [
    "#The lowest distances found for all instances. \n",
    "print(bestDiste)"
   ]
  },
  {
   "cell_type": "code",
   "execution_count": 140,
   "id": "46540c44",
   "metadata": {},
   "outputs": [
    {
     "name": "stdout",
     "output_type": "stream",
     "text": [
      "[44246, 42544, 42679, 42772, 48131, 46002, 53651, 53554]\n"
     ]
    }
   ],
   "source": [
    "#The total number of iterations for all instances. \n",
    "print(totIter)"
   ]
  },
  {
   "cell_type": "markdown",
   "id": "67a49924",
   "metadata": {},
   "source": [
    "## Helper Functions"
   ]
  },
  {
   "cell_type": "code",
   "execution_count": 94,
   "id": "6acac691",
   "metadata": {},
   "outputs": [],
   "source": [
    "def is_feasible_trivial(instance, solution):\n",
    "    \"\"\"\n",
    "    Checks if the solution is feasible for the instance.\n",
    "    \"\"\"\n",
    "    # Check if all customers are served\n",
    "    # Check if all customers are served\n",
    "    custs = {cust for route in solution for cust in route}\n",
    "    all_custs = set(range(1, instance['dimension']))\n",
    "\n",
    "    if (custs & all_custs) != all_custs:\n",
    "        print(\"We get to here 1\")\n",
    "        return False\n",
    "\n",
    "    # Check that none of the routes exceed vehicle capacity\n",
    "    capacity = instance['capacity']\n",
    "    demands = instance['demand']\n",
    "\n",
    "    for route in solution:\n",
    "        if demands[route].sum() > capacity:\n",
    "            print(\"We get here for route\", route)\n",
    "            return False\n",
    "\n",
    "    # Check if all customers are served on time\n",
    "    release_times = instance['release_time']\n",
    "    deadlines = instance['deadline']\n",
    "    service_times = instance['service_time']\n",
    "    distances = instance['edge_weight']\n",
    "\n",
    "    for route in solution:\n",
    "        current_time = release_times[route].max()\n",
    "        locs = [0] + route + [0]\n",
    "\n",
    "        for idx in range(len(locs) - 1):\n",
    "            pred, succ = locs[idx], locs[idx + 1]\n",
    "            dist = distances[pred, succ]\n",
    "            arrival = current_time + dist\n",
    "\n",
    "            if arrival > deadlines[succ]: \n",
    "                print(\"We get here 3\")\n",
    "                return False\n",
    "\n",
    "            current_time = arrival + service_times[succ]\n",
    "\n",
    "    return True\n",
    "            "
   ]
  },
  {
   "cell_type": "code",
   "execution_count": 135,
   "id": "4566d05d",
   "metadata": {},
   "outputs": [],
   "source": [
    "def is_feasible(instance, solution):\n",
    "    \"\"\"\n",
    "    Checks if the solution is feasible for the instance.\n",
    "    \"\"\"\n",
    "    # Check if all customers are served\n",
    "    # Check if all customers are served\n",
    "    custs = {cust for route in solution for cust in route}\n",
    "    all_custs = set(range(1, instance['dimension']))\n",
    "\n",
    "    if (custs & all_custs) != all_custs:\n",
    "        #print(\"We get to here 1\")\n",
    "        return False\n",
    "\n",
    "    # Check that none of the routes exceed vehicle capacity\n",
    "    capacity = instance['capacity']\n",
    "    demands = instance['demand']\n",
    "\n",
    "    for route in solution:\n",
    "        if demands[route].sum() > capacity:\n",
    "            #print(\"We get here for route\", route)\n",
    "            return False\n",
    "\n",
    "    # Check if all customers are served on time\n",
    "    release_times = instance['release_time']\n",
    "    deadlines = instance['deadline']\n",
    "    service_times = instance['service_time']\n",
    "    distances = instance['edge_weight']\n",
    "\n",
    "    for route in solution:\n",
    "        current_time = release_times[route].max()\n",
    "        #locs = [0] + route + [0]\n",
    "        locs = route #My routes include the 0's so we need to change this line. \n",
    "\n",
    "        for idx in range(len(locs) - 1):\n",
    "            pred, succ = locs[idx], locs[idx + 1]\n",
    "            dist = distances[pred, succ]\n",
    "            arrival = current_time + dist\n",
    "\n",
    "            if arrival > deadlines[succ]: \n",
    "                #print(\"We get here 3\")\n",
    "                return False\n",
    "\n",
    "            current_time = arrival + service_times[succ]\n",
    "\n",
    "    return True\n",
    "            "
   ]
  },
  {
   "cell_type": "code",
   "execution_count": 96,
   "id": "57a92bf6",
   "metadata": {},
   "outputs": [],
   "source": [
    "def total_distance(instance, solution):\n",
    "    \"\"\"\n",
    "    Computes the total distance of the passed-in solution.\n",
    "    \"\"\"\n",
    "    distances = instance['edge_weight']\n",
    "    total = 0\n",
    "\n",
    "    for route in solution:\n",
    "        pred = [0] + route\n",
    "        succ = route + [0]\n",
    "        total += distances[pred, succ].sum()\n",
    "\n",
    "    return total"
   ]
  },
  {
   "cell_type": "code",
   "execution_count": 97,
   "id": "4a5118e9",
   "metadata": {},
   "outputs": [],
   "source": [
    "def write_solution(fname, solution):\n",
    "    \"\"\"\n",
    "    Writes a solution to file.\n",
    "    \"\"\"\n",
    "    with open(fname, 'w') as fh:\n",
    "        for route in solution:\n",
    "            fh.write(' '.join(str(cust) for cust in route))\n",
    "            fh.write('\\n')"
   ]
  },
  {
   "cell_type": "markdown",
   "id": "12cb4257",
   "metadata": {},
   "source": [
    "## Testing the trivial solution (TA code)"
   ]
  },
  {
   "cell_type": "code",
   "execution_count": 145,
   "id": "4f71f224",
   "metadata": {},
   "outputs": [
    {
     "name": "stdout",
     "output_type": "stream",
     "text": [
      "For instance 1 the is_feasible function returns:  True\n",
      "For instance 2 the is_feasible function returns:  True\n",
      "For instance 3 the is_feasible function returns:  True\n",
      "For instance 4 the is_feasible function returns:  True\n",
      "For instance 5 the is_feasible function returns:  True\n",
      "For instance 6 the is_feasible function returns:  True\n",
      "For instance 7 the is_feasible function returns:  True\n",
      "For instance 8 the is_feasible function returns:  True\n"
     ]
    }
   ],
   "source": [
    "# The trivial solution where each customer is served using a single vehicle\n",
    "# is always feasible, since we have an unlimited number of vehicles.\n",
    "# The trivial solution where each customer is served using a single vehicle\n",
    "# is always feasible, since we have an unlimited number of vehicles.\n",
    "i = 0\n",
    "for instance in instances:\n",
    "    i = i + 1\n",
    "    trivial_solution = [[cust] for cust in range(1, instance['dimension'])]\n",
    "    print(\"For instance\", i, \"the is_feasible function returns: \",is_feasible_trivial(instance, trivial_solution))"
   ]
  },
  {
   "cell_type": "code",
   "execution_count": 144,
   "id": "e884ac82",
   "metadata": {},
   "outputs": [
    {
     "name": "stdout",
     "output_type": "stream",
     "text": [
      "The total distance for instance 1 is: 586047\n",
      "The total distance for instance 2 is: 491246\n",
      "The total distance for instance 3 is: 649701\n",
      "The total distance for instance 4 is: 672237\n",
      "The total distance for instance 5 is: 711632\n",
      "The total distance for instance 6 is: 553242\n",
      "The total distance for instance 7 is: 664629\n",
      "The total distance for instance 8 is: 653156\n"
     ]
    }
   ],
   "source": [
    "i = 0\n",
    "for instance in instances:\n",
    "    i = i + 1\n",
    "    trivial_solution = [[cust] for cust in range(1, instance['dimension'])]\n",
    "    print(\"The total distance for instance\", i, \"is:\", total_distance(instance, trivial_solution))"
   ]
  },
  {
   "cell_type": "code",
   "execution_count": 100,
   "id": "a3f5d8f3",
   "metadata": {},
   "outputs": [],
   "source": [
    "solution_loc = instance_loc.stem + '.sol'\n",
    "write_solution(solution_loc, trivial_solution)"
   ]
  },
  {
   "cell_type": "markdown",
   "id": "1f035f18",
   "metadata": {},
   "source": [
    "## Testing the Heuristic solution "
   ]
  },
  {
   "cell_type": "code",
   "execution_count": 101,
   "id": "5c073855",
   "metadata": {},
   "outputs": [
    {
     "name": "stdout",
     "output_type": "stream",
     "text": [
      "For instance 1 the is_feasible function returns:  True\n",
      "For instance 2 the is_feasible function returns:  True\n",
      "For instance 3 the is_feasible function returns:  True\n",
      "For instance 4 the is_feasible function returns:  True\n",
      "For instance 5 the is_feasible function returns:  True\n",
      "For instance 6 the is_feasible function returns:  True\n",
      "For instance 7 the is_feasible function returns:  True\n",
      "For instance 8 the is_feasible function returns:  True\n"
     ]
    }
   ],
   "source": [
    "i = 0\n",
    "for instance in instances: \n",
    "    i = i + 1\n",
    "    newroutes = CWHeuristic(instance)\n",
    "    print(\"For instance\", i, \"the is_feasible function returns: \", is_feasible(instance, newroutes))"
   ]
  },
  {
   "cell_type": "code",
   "execution_count": 102,
   "id": "63bae9f2",
   "metadata": {},
   "outputs": [
    {
     "name": "stdout",
     "output_type": "stream",
     "text": [
      "For instance 1 the total distance is:  247308\n",
      "For instance 2 the total distance is:  184489\n",
      "For instance 3 the total distance is:  262820\n",
      "For instance 4 the total distance is:  265253\n",
      "For instance 5 the total distance is:  251132\n",
      "For instance 6 the total distance is:  183545\n",
      "For instance 7 the total distance is:  276340\n",
      "For instance 8 the total distance is:  288560\n"
     ]
    }
   ],
   "source": [
    "i = 0\n",
    "for instance in instances: \n",
    "    i = i + 1\n",
    "    newroutes = CWHeuristic(instance)\n",
    "    print(\"For instance\", i, \"the total distance is: \",total_distance(instance, newroutes))"
   ]
  },
  {
   "cell_type": "code",
   "execution_count": 103,
   "id": "bf50101e",
   "metadata": {},
   "outputs": [],
   "source": [
    "#solution_loc = instance_loc.stem + '.sol'\n",
    "#write_solution(solution_loc, newroutes)"
   ]
  },
  {
   "cell_type": "markdown",
   "id": "7c44eea8",
   "metadata": {},
   "source": [
    "## Testing the Metaheuristic solution "
   ]
  },
  {
   "cell_type": "code",
   "execution_count": 142,
   "id": "2aa2bdcf",
   "metadata": {},
   "outputs": [
    {
     "name": "stdout",
     "output_type": "stream",
     "text": [
      "For instance 0 the is_feasible function returns:  True\n",
      "For instance 1 the is_feasible function returns:  True\n",
      "For instance 2 the is_feasible function returns:  True\n",
      "For instance 3 the is_feasible function returns:  True\n",
      "For instance 4 the is_feasible function returns:  True\n",
      "For instance 5 the is_feasible function returns:  True\n",
      "For instance 6 the is_feasible function returns:  True\n",
      "For instance 7 the is_feasible function returns:  True\n"
     ]
    }
   ],
   "source": [
    "i = 0\n",
    "for instance in instances: \n",
    "    print(\"For instance\", i, \"the is_feasible function returns: \", is_feasible(instance, routesInstances[i]))\n",
    "    i = i + 1"
   ]
  },
  {
   "cell_type": "code",
   "execution_count": 143,
   "id": "32bee289",
   "metadata": {},
   "outputs": [
    {
     "name": "stdout",
     "output_type": "stream",
     "text": [
      "For instance 0 the total distance for the best solution is:  247308\n",
      "For instance 1 the total distance for the best solution is:  184489\n",
      "For instance 2 the total distance for the best solution is:  262820\n",
      "For instance 3 the total distance for the best solution is:  265253\n",
      "For instance 4 the total distance for the best solution is:  251132\n",
      "For instance 5 the total distance for the best solution is:  183335\n",
      "For instance 6 the total distance for the best solution is:  276340\n",
      "For instance 7 the total distance for the best solution is:  288560\n"
     ]
    }
   ],
   "source": [
    "i = 0\n",
    "for instance in instances: \n",
    "    #print(\"For instance\", i, \"the total distance for the best solution is: \", total_distance(instance, routesInstances[i]))\n",
    "    print(\"For instance\", i, \"the total distance for the best solution is: \", bestDiste[i])\n",
    "    i = i + 1\n",
    "    \n",
    "    "
   ]
  },
  {
   "cell_type": "code",
   "execution_count": null,
   "id": "2e1a0e95",
   "metadata": {},
   "outputs": [],
   "source": []
  }
 ],
 "metadata": {
  "kernelspec": {
   "display_name": "Python 3",
   "language": "python",
   "name": "python3"
  },
  "language_info": {
   "codemirror_mode": {
    "name": "ipython",
    "version": 3
   },
   "file_extension": ".py",
   "mimetype": "text/x-python",
   "name": "python",
   "nbconvert_exporter": "python",
   "pygments_lexer": "ipython3",
   "version": "3.10.7"
  },
  "vscode": {
   "interpreter": {
    "hash": "aee8b7b246df8f9039afb4144a1f6fd8d2ca17a180786b69acc140d282b71a49"
   }
  }
 },
 "nbformat": 4,
 "nbformat_minor": 5
}
